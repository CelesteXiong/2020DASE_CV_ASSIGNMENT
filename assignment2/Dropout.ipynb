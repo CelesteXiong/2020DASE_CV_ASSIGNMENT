{
 "cells": [
  {
   "cell_type": "markdown",
   "metadata": {
    "tags": [
     "pdf-title"
    ]
   },
   "source": [
    "# Dropout\n",
    "Dropout [1] 是一种通过在正向传播中将一些输出随机设置为零，神经网络正则化的方法。在这个练习中，你将实现一个dropout层，并修改你的全连接网络使其可选择的使用dropout\n",
    "\n",
    "[1] [Geoffrey E. Hinton et al, \"Improving neural networks by preventing co-adaptation of feature detectors\", arXiv 2012](https://arxiv.org/abs/1207.0580)"
   ]
  },
  {
   "cell_type": "code",
   "execution_count": 15,
   "metadata": {
    "tags": [
     "pdf-ignore"
    ]
   },
   "outputs": [
    {
     "name": "stdout",
     "output_type": "stream",
     "text": [
      "The autoreload extension is already loaded. To reload it, use:\n",
      "  %reload_ext autoreload\n"
     ]
    }
   ],
   "source": [
    "# As usual, a bit of setup\n",
    "from __future__ import print_function\n",
    "import time\n",
    "import numpy as np\n",
    "import matplotlib.pyplot as plt\n",
    "from daseCV.classifiers.fc_net import *\n",
    "from daseCV.data_utils import get_CIFAR10_data\n",
    "from daseCV.gradient_check import eval_numerical_gradient, eval_numerical_gradient_array\n",
    "from daseCV.solver import Solver\n",
    "\n",
    "%matplotlib inline\n",
    "plt.rcParams['figure.figsize'] = (10.0, 8.0)  # set default size of plots\n",
    "plt.rcParams['image.interpolation'] = 'nearest'\n",
    "plt.rcParams['image.cmap'] = 'gray'\n",
    "\n",
    "# for auto-reloading external modules\n",
    "# see http://stackoverflow.com/questions/1907993/autoreload-of-modules-in-ipython\n",
    "%load_ext autoreload\n",
    "%autoreload 2\n",
    "\n",
    "\n",
    "def rel_error(x, y):\n",
    "    \"\"\" returns relative error \"\"\"\n",
    "    return np.max(np.abs(x - y) / (np.maximum(1e-8, np.abs(x) + np.abs(y))))\n"
   ]
  },
  {
   "cell_type": "code",
   "execution_count": 3,
   "metadata": {
    "tags": [
     "pdf-ignore"
    ]
   },
   "outputs": [
    {
     "name": "stdout",
     "output_type": "stream",
     "text": [
      "X_train:  (49000, 3, 32, 32)\n",
      "y_train:  (49000,)\n",
      "X_val:  (1000, 3, 32, 32)\n",
      "y_val:  (1000,)\n",
      "X_test:  (1000, 3, 32, 32)\n",
      "y_test:  (1000,)\n"
     ]
    }
   ],
   "source": [
    "# Load the (preprocessed) CIFAR10 data.\n",
    "\n",
    "data = get_CIFAR10_data()\n",
    "for k, v in data.items():\n",
    "  print('%s: ' % k, v.shape)"
   ]
  },
  {
   "cell_type": "markdown",
   "metadata": {},
   "source": [
    "# Dropout 正向传播\n",
    "在文件 `daseCV/layers.py` 中完成dropout的正向传播过程。由于dropout在训练和测试期间的行为是不同的，因此请确保两种模式下都实现完成。\n",
    "\n",
    "完成此操作后，运行下面的cell以测试你的代码。"
   ]
  },
  {
   "cell_type": "code",
   "execution_count": 25,
   "metadata": {},
   "outputs": [
    {
     "name": "stdout",
     "output_type": "stream",
     "text": [
      "Running tests with p =  0.25\n",
      "Mean of input:  10.000207878477502\n",
      "Mean of train-time output:  10.014059116977283\n",
      "Mean of test-time output:  10.000207878477502\n",
      "Fraction of train-time output set to zero:  0.749784\n",
      "Fraction of test-time output set to zero:  0.0\n",
      "\n",
      "Running tests with p =  0.4\n",
      "Mean of input:  10.000207878477502\n",
      "Mean of train-time output:  9.977917658761159\n",
      "Mean of test-time output:  10.000207878477502\n",
      "Fraction of train-time output set to zero:  0.600796\n",
      "Fraction of test-time output set to zero:  0.0\n",
      "\n",
      "Running tests with p =  0.7\n",
      "Mean of input:  10.000207878477502\n",
      "Mean of train-time output:  9.987811912159426\n",
      "Mean of test-time output:  10.000207878477502\n",
      "Fraction of train-time output set to zero:  0.30074\n",
      "Fraction of test-time output set to zero:  0.0\n",
      "\n"
     ]
    }
   ],
   "source": [
    "import time\n",
    "\n",
    "np.random.seed(231)\n",
    "x = np.random.randn(500, 500) + 10\n",
    "# x = np.random.randn(100, 500, 500) + 10\n",
    "# print(x)\n",
    "#long running\n",
    "#do something other\n",
    "\n",
    "for p in [0.25, 0.4, 0.7]:\n",
    "#   print(x)\n",
    "#   print('way1: ')\n",
    "#   start = time.clock()\n",
    "#   out, _ = dropout_forward(x, {'mode': 'train_1', 'p': p})\n",
    "#   end = time.clock()\n",
    "#   print (end-start)\n",
    "# #   out_test, _ = dropout_forward(x, {'mode': 'test', 'p': p})\n",
    "  \n",
    "    \n",
    "#   print('way2: ')\n",
    "#   start = time.clock()\n",
    "#   out, _ = dropout_forward(x, {'mode': 'train_2', 'p': p})\n",
    "#   end = time.clock()\n",
    "#   print (end-start)\n",
    "#   out_test, _ = dropout_forward(x, {'mode': 'test', 'p': p})\n",
    "  \n",
    "  out, _ = dropout_forward(x, {'mode': 'train_1', 'p': p})\n",
    "  out_test, _ = dropout_forward(x, {'mode': 'test', 'p': p})\n",
    "#   print(x)\n",
    "  print('Running tests with p = ', p)\n",
    "  print('Mean of input: ', x.mean())\n",
    "  print('Mean of train-time output: ', out.mean())\n",
    "  print('Mean of test-time output: ', out_test.mean())\n",
    "  print('Fraction of train-time output set to zero: ', (out == 0).mean())\n",
    "  print('Fraction of test-time output set to zero: ', (out_test == 0).mean())\n",
    "  print()\n"
   ]
  },
  {
   "cell_type": "markdown",
   "metadata": {},
   "source": [
    "# Dropout 反向传播\n",
    "在文件 `daseCV/layers.py` 中完成dropout的反向传播。完成之后运行以下cell以对你的实现代码进行梯度检查。"
   ]
  },
  {
   "cell_type": "code",
   "execution_count": 14,
   "metadata": {},
   "outputs": [
    {
     "name": "stdout",
     "output_type": "stream",
     "text": [
      "dx relative error:  1.892894523661062e-11\n"
     ]
    }
   ],
   "source": [
    "np.random.seed(231)\n",
    "x = np.random.randn(10, 10) + 10\n",
    "dout = np.random.randn(*x.shape)\n",
    "\n",
    "dropout_param = {'mode': 'train', 'p': 0.2, 'seed': 123}\n",
    "out, cache = dropout_forward(x, dropout_param)\n",
    "dx = dropout_backward(dout, cache)\n",
    "dx_num = eval_numerical_gradient_array(lambda xx: dropout_forward(xx, dropout_param)[0], x, dout)\n",
    "\n",
    "# Error should be around e-10 or less\n",
    "print('dx relative error: ', rel_error(dx, dx_num))"
   ]
  },
  {
   "cell_type": "markdown",
   "metadata": {
    "tags": [
     "pdf-inline"
    ]
   },
   "source": [
    "## 问题 1:\n",
    "如果我们不利用inverted dropout，在训练的时候直接将dropout后的值除以 `p`,会发生什么？为什么会这样呢？\n",
    "\n",
    "\n",
    "\n",
    "## 回答:\n",
    "根据https://cs231n.github.io/neural-networks-2/#reg\n",
    "1. dropout之后训练的时候每个神经元有 p 概率被舍弃, 如果不除以q, 则在predict时, 所有神经元都进行计算, 得到的结果将比训练集的平均大 1/p, 所以需要把模型在测试集上的输出结果乘以 p, 使得下一层的输入的期望保持不变\n",
    "2. 利用inverted dropout，在训练的时候直接将dropout后留下的权重扩大为 1/p倍, 可以使得输出结果的期望保持不变, 并且在预测时, 不需要进行额外操作, 可以加快预测时间, 也不会改变测试集.\n"
   ]
  },
  {
   "cell_type": "markdown",
   "metadata": {},
   "source": [
    "# 全连接网络的Dropout\n",
    "\n",
    "修改`daseCV/classifiers/fc_net.py`文件完成使用dropout的部分。具体来说，如果网络的构造函数收到的`dropout`参数值不为1，则应在每个ReLU之后添加一个dropout层。完成之后，运行以下命令以对你的代码进行梯度检查。"
   ]
  },
  {
   "cell_type": "code",
   "execution_count": 4,
   "metadata": {},
   "outputs": [
    {
     "name": "stdout",
     "output_type": "stream",
     "text": [
      "Running check with dropout =  1\n",
      "Initial loss:  2.3004790897684924\n",
      "W1 relative error: 1.48e-07\n",
      "W2 relative error: 2.21e-05\n",
      "W3 relative error: 3.53e-07\n",
      "b1 relative error: 5.38e-09\n",
      "b2 relative error: 2.09e-09\n",
      "b3 relative error: 5.80e-11\n",
      "\n",
      "Running check with dropout =  0.75\n",
      "Initial loss:  2.302371489704412\n",
      "W1 relative error: 1.90e-07\n",
      "W2 relative error: 4.76e-06\n",
      "W3 relative error: 2.60e-08\n",
      "b1 relative error: 4.73e-09\n",
      "b2 relative error: 1.82e-09\n",
      "b3 relative error: 1.70e-10\n",
      "\n",
      "Running check with dropout =  0.5\n",
      "Initial loss:  2.310136908722148\n",
      "W1 relative error: 2.57e-08\n",
      "W2 relative error: 1.49e-08\n",
      "W3 relative error: 4.49e-08\n",
      "b1 relative error: 1.35e-09\n",
      "b2 relative error: 1.91e-09\n",
      "b3 relative error: 9.51e-11\n",
      "\n"
     ]
    }
   ],
   "source": [
    "np.random.seed(231)\n",
    "N, D, H1, H2, C = 2, 15, 20, 30, 10\n",
    "X = np.random.randn(N, D)\n",
    "y = np.random.randint(C, size=(N,))\n",
    "\n",
    "for dropout in [1, 0.75, 0.5]:\n",
    "  print('Running check with dropout = ', dropout)\n",
    "  model = FullyConnectedNet([H1, H2], input_dim=D, num_classes=C,\n",
    "                            weight_scale=5e-2, dtype=np.float64,\n",
    "                            dropout=dropout, seed=123)\n",
    "\n",
    "  loss, grads = model.loss(X, y)\n",
    "  print('Initial loss: ', loss)\n",
    "  \n",
    "  # Relative errors should be around e-6 or less; Note that it's fine\n",
    "  # if for dropout=1 you have W2 error be on the order of e-5.\n",
    "  for name in sorted(grads):\n",
    "    f = lambda _: model.loss(X, y)[0]\n",
    "    grad_num = eval_numerical_gradient(f, model.params[name], verbose=False, h=1e-5)\n",
    "    print('%s relative error: %.2e' % (name, rel_error(grad_num, grads[name])))\n",
    "  print()"
   ]
  },
  {
   "cell_type": "markdown",
   "metadata": {},
   "source": [
    "# 正则化实验\n",
    "作为实验，我们将在500个样本上训练一对双层网络：一个不使用dropout，另一个使用概率为0.25的dropout。之后，我们将可视化这两个网络训练和验证的准确度。"
   ]
  },
  {
   "cell_type": "code",
   "execution_count": 16,
   "metadata": {
    "scrolled": false
   },
   "outputs": [
    {
     "name": "stdout",
     "output_type": "stream",
     "text": [
      "1\n",
      "(Iteration 1 / 125) loss: 7.856643\n",
      "(Epoch 0 / 25) train acc: 0.180000; val_acc: 0.154000\n",
      "(Epoch 1 / 25) train acc: 0.278000; val_acc: 0.222000\n",
      "(Epoch 2 / 25) train acc: 0.366000; val_acc: 0.213000\n",
      "(Epoch 3 / 25) train acc: 0.386000; val_acc: 0.224000\n",
      "(Epoch 4 / 25) train acc: 0.482000; val_acc: 0.269000\n",
      "(Epoch 5 / 25) train acc: 0.604000; val_acc: 0.284000\n",
      "(Epoch 6 / 25) train acc: 0.658000; val_acc: 0.299000\n",
      "(Epoch 7 / 25) train acc: 0.670000; val_acc: 0.237000\n",
      "(Epoch 8 / 25) train acc: 0.744000; val_acc: 0.277000\n",
      "(Epoch 9 / 25) train acc: 0.800000; val_acc: 0.260000\n",
      "(Epoch 10 / 25) train acc: 0.870000; val_acc: 0.299000\n",
      "(Epoch 11 / 25) train acc: 0.872000; val_acc: 0.268000\n",
      "(Epoch 12 / 25) train acc: 0.912000; val_acc: 0.287000\n",
      "(Epoch 13 / 25) train acc: 0.910000; val_acc: 0.268000\n",
      "(Epoch 14 / 25) train acc: 0.958000; val_acc: 0.288000\n",
      "(Epoch 15 / 25) train acc: 0.962000; val_acc: 0.294000\n",
      "(Epoch 16 / 25) train acc: 0.974000; val_acc: 0.302000\n",
      "(Epoch 17 / 25) train acc: 0.996000; val_acc: 0.299000\n",
      "(Epoch 18 / 25) train acc: 0.986000; val_acc: 0.297000\n",
      "(Epoch 19 / 25) train acc: 0.998000; val_acc: 0.300000\n",
      "(Epoch 20 / 25) train acc: 0.992000; val_acc: 0.309000\n",
      "(Iteration 101 / 125) loss: 0.000000\n",
      "(Epoch 21 / 25) train acc: 0.994000; val_acc: 0.317000\n",
      "(Epoch 22 / 25) train acc: 0.984000; val_acc: 0.320000\n",
      "(Epoch 23 / 25) train acc: 0.998000; val_acc: 0.315000\n",
      "(Epoch 24 / 25) train acc: 0.996000; val_acc: 0.305000\n",
      "(Epoch 25 / 25) train acc: 0.994000; val_acc: 0.295000\n",
      "\n",
      "0.25\n",
      "(Iteration 1 / 125) loss: 19.352450\n",
      "(Epoch 0 / 25) train acc: 0.126000; val_acc: 0.104000\n",
      "(Epoch 1 / 25) train acc: 0.216000; val_acc: 0.202000\n",
      "(Epoch 2 / 25) train acc: 0.314000; val_acc: 0.208000\n",
      "(Epoch 3 / 25) train acc: 0.394000; val_acc: 0.270000\n",
      "(Epoch 4 / 25) train acc: 0.424000; val_acc: 0.279000\n",
      "(Epoch 5 / 25) train acc: 0.452000; val_acc: 0.291000\n",
      "(Epoch 6 / 25) train acc: 0.540000; val_acc: 0.297000\n",
      "(Epoch 7 / 25) train acc: 0.568000; val_acc: 0.295000\n",
      "(Epoch 8 / 25) train acc: 0.634000; val_acc: 0.313000\n",
      "(Epoch 9 / 25) train acc: 0.642000; val_acc: 0.307000\n",
      "(Epoch 10 / 25) train acc: 0.676000; val_acc: 0.313000\n",
      "(Epoch 11 / 25) train acc: 0.748000; val_acc: 0.319000\n",
      "(Epoch 12 / 25) train acc: 0.732000; val_acc: 0.313000\n",
      "(Epoch 13 / 25) train acc: 0.790000; val_acc: 0.319000\n",
      "(Epoch 14 / 25) train acc: 0.758000; val_acc: 0.303000\n",
      "(Epoch 15 / 25) train acc: 0.796000; val_acc: 0.307000\n",
      "(Epoch 16 / 25) train acc: 0.844000; val_acc: 0.309000\n",
      "(Epoch 17 / 25) train acc: 0.870000; val_acc: 0.304000\n",
      "(Epoch 18 / 25) train acc: 0.886000; val_acc: 0.306000\n",
      "(Epoch 19 / 25) train acc: 0.892000; val_acc: 0.317000\n",
      "(Epoch 20 / 25) train acc: 0.908000; val_acc: 0.332000\n",
      "(Iteration 101 / 125) loss: 58.457183\n",
      "(Epoch 21 / 25) train acc: 0.910000; val_acc: 0.323000\n",
      "(Epoch 22 / 25) train acc: 0.912000; val_acc: 0.320000\n",
      "(Epoch 23 / 25) train acc: 0.918000; val_acc: 0.314000\n",
      "(Epoch 24 / 25) train acc: 0.932000; val_acc: 0.315000\n",
      "(Epoch 25 / 25) train acc: 0.930000; val_acc: 0.324000\n",
      "\n"
     ]
    }
   ],
   "source": [
    "# Train two identical nets, one with dropout and one without\n",
    "np.random.seed(231)\n",
    "num_train = 500\n",
    "small_data = {\n",
    "  'X_train': data['X_train'][:num_train],\n",
    "  'y_train': data['y_train'][:num_train],\n",
    "  'X_val': data['X_val'],\n",
    "  'y_val': data['y_val'],\n",
    "}\n",
    "\n",
    "solvers = {}\n",
    "dropout_choices = [1, 0.25]\n",
    "for dropout in dropout_choices:\n",
    "  model = FullyConnectedNet([500], dropout=dropout)\n",
    "  print(dropout)\n",
    "\n",
    "  solver = Solver(model, small_data,\n",
    "                  num_epochs=25, batch_size=100,\n",
    "                  update_rule='adam',\n",
    "                  optim_config={\n",
    "                    'learning_rate': 5e-4,\n",
    "                  },\n",
    "                  verbose=True, print_every=100)\n",
    "  solver.train()\n",
    "  solvers[dropout] = solver\n",
    "  print()"
   ]
  },
  {
   "cell_type": "code",
   "execution_count": 17,
   "metadata": {},
   "outputs": [
    {
     "data": {
      "image/png": "[encoded data removed]",
      "text/plain": [
       "<Figure size 1080x1080 with 2 Axes>"
      ]
     },
     "metadata": {
      "needs_background": "light"
     },
     "output_type": "display_data"
    }
   ],
   "source": [
    "# Plot train and validation accuracies of the two models\n",
    "\n",
    "train_accs = []\n",
    "val_accs = []\n",
    "for dropout in dropout_choices:\n",
    "  solver = solvers[dropout]\n",
    "  train_accs.append(solver.train_acc_history[-1])\n",
    "  val_accs.append(solver.val_acc_history[-1])\n",
    "\n",
    "plt.subplot(3, 1, 1)\n",
    "for dropout in dropout_choices:\n",
    "  plt.plot(solvers[dropout].train_acc_history, 'o', label='%.2f dropout' % dropout)\n",
    "plt.title('Train accuracy')\n",
    "plt.xlabel('Epoch')\n",
    "plt.ylabel('Accuracy')\n",
    "plt.legend(ncol=2, loc='lower right')\n",
    "  \n",
    "plt.subplot(3, 1, 2)\n",
    "for dropout in dropout_choices:\n",
    "  plt.plot(solvers[dropout].val_acc_history, 'o', label='%.2f dropout' % dropout)\n",
    "plt.title('Val accuracy')\n",
    "plt.xlabel('Epoch')\n",
    "plt.ylabel('Accuracy')\n",
    "plt.legend(ncol=2, loc='lower right')\n",
    "\n",
    "plt.gcf().set_size_inches(15, 15)\n",
    "plt.show()"
   ]
  },
  {
   "cell_type": "markdown",
   "metadata": {
    "tags": [
     "pdf-inline"
    ]
   },
   "source": [
    "## 问题 2:\n",
    "对比有无dropout的验证和训练的精度，你对使用dropout作为正则化有何建议？\n",
    "\n",
    "## 回答:\n",
    "dropout可以降低模型复杂度, 减少过拟合程度, 可以结合正则化项, 在validation集合上对p进行调优.\n"
   ]
  },
  {
   "cell_type": "markdown",
   "metadata": {
    "tags": [
     "pdf-inline"
    ]
   },
   "source": [
    "## 问题三 3:\n",
    "假设我们正在训练一个深层的全连接网络用以进行图像分类，并隐层之后dropout（通过使用概率p进行参数化）。如果我们担心过度拟合而决定减小隐层的大小（即每层中的节点数）时，应该如何修改p（如果有的话）？\n",
    "\n",
    "## 回答:\n",
    "1. input/visible units的dropout rate(一般较大), 推荐是0.8， hidden layer 推荐是0.5\n",
    "2. 使用validation观察模型对dropout rate的敏感程度, 如果模型敏感, 则可能是因为规模过小, 可以适当减小dropout rate"
   ]
  },
  {
   "cell_type": "code",
   "execution_count": null,
   "metadata": {},
   "outputs": [],
   "source": []
  }
 ],
 "metadata": {
  "kernelspec": {
   "display_name": "pytorch",
   "language": "python",
   "name": "pytorch"
  },
  "language_info": {
   "codemirror_mode": {
    "name": "ipython",
    "version": 3
   },
   "file_extension": ".py",
   "mimetype": "text/x-python",
   "name": "python",
   "nbconvert_exporter": "python",
   "pygments_lexer": "ipython3",
   "version": "3.6.8"
  }
 },
 "nbformat": 4,
 "nbformat_minor": 2
}
